{
 "cells": [
  {
   "cell_type": "markdown",
   "id": "770be93f",
   "metadata": {},
   "source": [
    "1. Numpy exercises\n",
    "\n",
    "a. Create a null vector of size 10 but the fifth value which is 1"
   ]
  },
  {
   "cell_type": "code",
   "execution_count": 2,
   "id": "82db767c",
   "metadata": {},
   "outputs": [
    {
     "name": "stdout",
     "output_type": "stream",
     "text": [
      "[0. 0. 0. 0. 0. 1. 0. 0. 0. 0.]\n"
     ]
    }
   ],
   "source": [
    "import numpy as np\n",
    "x = np.zeros(10)\n",
    "x[5] = 1\n",
    "print(x)"
   ]
  },
  {
   "cell_type": "markdown",
   "id": "071b34c4",
   "metadata": {},
   "source": [
    "b. Create a vector with values ranging from 10 to 49"
   ]
  },
  {
   "cell_type": "code",
   "execution_count": 5,
   "id": "ee4a8cf5",
   "metadata": {},
   "outputs": [
    {
     "name": "stdout",
     "output_type": "stream",
     "text": [
      "[10 11 12 13 14 15 16 17 18 19 20 21 22 23 24 25 26 27 28 29 30 31 32 33\n",
      " 34 35 36 37 38 39 40 41 42 43 44 45 46 47 48 49]\n"
     ]
    }
   ],
   "source": [
    "y = np.arange(10,50)\n",
    "print(y)"
   ]
  },
  {
   "cell_type": "markdown",
   "id": "a64aa559",
   "metadata": {},
   "source": [
    "c. Reverse a vector (first element becomes last)"
   ]
  },
  {
   "cell_type": "code",
   "execution_count": 32,
   "id": "db4aaafd",
   "metadata": {},
   "outputs": [
    {
     "name": "stdout",
     "output_type": "stream",
     "text": [
      "[49 48 47 46 45 44 43 42 41 40 39 38 37 36 35 34 33 32 31 30 29 28 27 26\n",
      " 25 24 23 22 21 20 19 18 17 16 15 14 13 12 11 10]\n"
     ]
    }
   ],
   "source": [
    "c = np.flip(y)\n",
    "print(c)"
   ]
  },
  {
   "cell_type": "markdown",
   "id": "fe41e3c1",
   "metadata": {},
   "source": [
    "d. Create a 3x3 matrix with values ranging from 0 to 8"
   ]
  },
  {
   "cell_type": "code",
   "execution_count": 8,
   "id": "9f5c3104",
   "metadata": {},
   "outputs": [
    {
     "name": "stdout",
     "output_type": "stream",
     "text": [
      "[[0 1 2]\n",
      " [3 4 5]\n",
      " [6 7 8]]\n"
     ]
    }
   ],
   "source": [
    "m = np.arange(0,9).reshape(3,3)\n",
    "print(m)"
   ]
  },
  {
   "cell_type": "markdown",
   "id": "887b153b",
   "metadata": {},
   "source": [
    "e. Find indices of non-zero elements from [1,2,0,0,4,0]"
   ]
  },
  {
   "cell_type": "code",
   "execution_count": 34,
   "id": "8bc116ba",
   "metadata": {},
   "outputs": [
    {
     "data": {
      "text/plain": [
       "(array([0, 1, 4], dtype=int64),)"
      ]
     },
     "execution_count": 34,
     "metadata": {},
     "output_type": "execute_result"
    }
   ],
   "source": [
    "e = np.array([1,2,0,0,4,0])\n",
    "np.nonzero(e)"
   ]
  },
  {
   "cell_type": "markdown",
   "id": "082b3e74",
   "metadata": {},
   "source": [
    "f. Create a random vector of size 30 and find the mean value"
   ]
  },
  {
   "cell_type": "code",
   "execution_count": 12,
   "id": "970a5fa5",
   "metadata": {},
   "outputs": [
    {
     "name": "stdout",
     "output_type": "stream",
     "text": [
      "[0.21384439 0.81635798 0.66791054 0.67379362 0.88322695 0.20196431\n",
      " 0.72548952 0.68539325 0.47536509 0.32507692 0.80457791 0.32110471\n",
      " 0.58888707 0.49079035 0.41805361 0.14580538 0.77416229 0.41771734\n",
      " 0.47383498 0.73756249 0.22244057 0.54222449 0.04829678 0.62056736\n",
      " 0.31838932 0.51628659 0.28496254 0.10859763 0.14137387 0.21649588]\n"
     ]
    },
    {
     "data": {
      "text/plain": [
       "0.46201845744249337"
      ]
     },
     "execution_count": 12,
     "metadata": {},
     "output_type": "execute_result"
    }
   ],
   "source": [
    "f = np.random.random(30)\n",
    "print(f)\n",
    "np.mean(f)"
   ]
  },
  {
   "cell_type": "markdown",
   "id": "a7850a81",
   "metadata": {},
   "source": [
    "g. Create a 2d array with 1 on the border and 0 inside"
   ]
  },
  {
   "cell_type": "code",
   "execution_count": 15,
   "id": "e029ea19",
   "metadata": {},
   "outputs": [
    {
     "name": "stdout",
     "output_type": "stream",
     "text": [
      "[[1. 1. 1. 1. 1. 1.]\n",
      " [1. 1. 1. 1. 1. 1.]\n",
      " [1. 1. 1. 1. 1. 1.]\n",
      " [1. 1. 1. 1. 1. 1.]\n",
      " [1. 1. 1. 1. 1. 1.]\n",
      " [1. 1. 1. 1. 1. 1.]]\n"
     ]
    }
   ],
   "source": [
    "g = np.ones((6,6))\n",
    "print(g)"
   ]
  },
  {
   "cell_type": "code",
   "execution_count": 16,
   "id": "b195e4dd",
   "metadata": {},
   "outputs": [
    {
     "name": "stdout",
     "output_type": "stream",
     "text": [
      "[[1. 1. 1. 1. 1. 1.]\n",
      " [1. 0. 0. 0. 0. 1.]\n",
      " [1. 0. 0. 0. 0. 1.]\n",
      " [1. 0. 0. 0. 0. 1.]\n",
      " [1. 0. 0. 0. 0. 1.]\n",
      " [1. 1. 1. 1. 1. 1.]]\n"
     ]
    }
   ],
   "source": [
    "g[1:-1,1:-1] = 0\n",
    "print(g)"
   ]
  },
  {
   "cell_type": "markdown",
   "id": "07dbf431",
   "metadata": {},
   "source": [
    "h. Create a 8x8 matrix and fill it with a checkerboard pattern"
   ]
  },
  {
   "cell_type": "code",
   "execution_count": 19,
   "id": "328e90e8",
   "metadata": {},
   "outputs": [
    {
     "name": "stdout",
     "output_type": "stream",
     "text": [
      "[[0. 0. 0. 0. 0. 0. 0. 0.]\n",
      " [1. 0. 1. 0. 1. 0. 1. 0.]\n",
      " [0. 0. 0. 0. 0. 0. 0. 0.]\n",
      " [1. 0. 1. 0. 1. 0. 1. 0.]\n",
      " [0. 0. 0. 0. 0. 0. 0. 0.]\n",
      " [1. 0. 1. 0. 1. 0. 1. 0.]\n",
      " [0. 0. 0. 0. 0. 0. 0. 0.]\n",
      " [1. 0. 1. 0. 1. 0. 1. 0.]]\n",
      "[[0. 1. 0. 1. 0. 1. 0. 1.]\n",
      " [1. 0. 1. 0. 1. 0. 1. 0.]\n",
      " [0. 1. 0. 1. 0. 1. 0. 1.]\n",
      " [1. 0. 1. 0. 1. 0. 1. 0.]\n",
      " [0. 1. 0. 1. 0. 1. 0. 1.]\n",
      " [1. 0. 1. 0. 1. 0. 1. 0.]\n",
      " [0. 1. 0. 1. 0. 1. 0. 1.]\n",
      " [1. 0. 1. 0. 1. 0. 1. 0.]]\n"
     ]
    }
   ],
   "source": [
    "h = np.zeros((8,8))\n",
    "h[1::2,::2] = 1 #Columns: take index 1 included to 2 non included, step of 2, = 1\n",
    "print(h)\n",
    "h[::2,1::2] = 1 #Rows\n",
    "print(h)"
   ]
  },
  {
   "cell_type": "markdown",
   "id": "4831b8e3",
   "metadata": {},
   "source": [
    "i. Create a checkerboard 8x8 matrix using the tile function"
   ]
  },
  {
   "cell_type": "code",
   "execution_count": 24,
   "id": "0388dc0e",
   "metadata": {},
   "outputs": [
    {
     "data": {
      "text/plain": [
       "array([[0, 1, 0, 1, 0, 1, 0, 1],\n",
       "       [0, 1, 0, 1, 0, 1, 0, 1],\n",
       "       [0, 1, 0, 1, 0, 1, 0, 1],\n",
       "       [0, 1, 0, 1, 0, 1, 0, 1],\n",
       "       [0, 1, 0, 1, 0, 1, 0, 1],\n",
       "       [0, 1, 0, 1, 0, 1, 0, 1],\n",
       "       [0, 1, 0, 1, 0, 1, 0, 1],\n",
       "       [0, 1, 0, 1, 0, 1, 0, 1]])"
      ]
     },
     "execution_count": 24,
     "metadata": {},
     "output_type": "execute_result"
    }
   ],
   "source": [
    "i = np.array([0,1])\n",
    "np.tile(i,(8,4))"
   ]
  },
  {
   "cell_type": "markdown",
   "id": "4a34d68f",
   "metadata": {},
   "source": [
    "j. Given a 1D array, negate all elements which are between 3 and 8, in place"
   ]
  },
  {
   "cell_type": "code",
   "execution_count": 27,
   "id": "93843b4e",
   "metadata": {},
   "outputs": [
    {
     "name": "stdout",
     "output_type": "stream",
     "text": [
      "[ 0  1  2 -3 -4 -5 -6 -7  8  9 10]\n"
     ]
    }
   ],
   "source": [
    "Z = np.arange(11)\n",
    "i = np.logical_and((Z>2),(Z<8))\n",
    "Z[i] *= -1\n",
    "print(Z)"
   ]
  },
  {
   "cell_type": "code",
   "execution_count": 28,
   "id": "0cbb5d3a",
   "metadata": {},
   "outputs": [
    {
     "name": "stdout",
     "output_type": "stream",
     "text": [
      "[ 0  1  2 -3 -4 -5 -6 -7 -8  9 10]\n"
     ]
    }
   ],
   "source": [
    "Z = np.arange(11)\n",
    "Z[3:9] = np.multiply(Z[3:9],-1)\n",
    "\n",
    "print(Z)"
   ]
  },
  {
   "cell_type": "markdown",
   "id": "a3cd7f18",
   "metadata": {},
   "source": [
    "k. Create a random vector of size 10 and sort it"
   ]
  },
  {
   "cell_type": "code",
   "execution_count": 35,
   "id": "af145bb9",
   "metadata": {},
   "outputs": [
    {
     "name": "stdout",
     "output_type": "stream",
     "text": [
      "[0.09423393 0.23874853 0.36951827 0.40800651 0.49767754 0.56251656\n",
      " 0.65869865 0.83447629 0.90369683 0.95770442]\n"
     ]
    }
   ],
   "source": [
    "Z = np.random.random(10)\n",
    "Z = np.sort(k)\n",
    "print(Z)"
   ]
  },
  {
   "cell_type": "markdown",
   "id": "ddaedac6",
   "metadata": {},
   "source": [
    "l. Consider two random array A anb B, check if they are equal"
   ]
  },
  {
   "cell_type": "code",
   "execution_count": 38,
   "id": "f344b0f8",
   "metadata": {},
   "outputs": [
    {
     "name": "stdout",
     "output_type": "stream",
     "text": [
      "False\n"
     ]
    }
   ],
   "source": [
    "A = np.random.randint(0,2,5)\n",
    "B = np.random.randint(0,2,5)\n",
    "comparison = A==B\n",
    "equal = comparison.all()\n",
    "print(equal)"
   ]
  },
  {
   "cell_type": "markdown",
   "id": "c908dc81",
   "metadata": {},
   "source": [
    "m. How to convert an integer (32 bits) array into a float (32 bits) in place?"
   ]
  },
  {
   "cell_type": "code",
   "execution_count": 40,
   "id": "4b27a0a7",
   "metadata": {},
   "outputs": [
    {
     "name": "stdout",
     "output_type": "stream",
     "text": [
      "int32\n",
      "float32\n"
     ]
    }
   ],
   "source": [
    "Z = np.arange(10, dtype=np.int32)\n",
    "print(Z.dtype)\n",
    "Z = Z.astype(np.float32)\n",
    "print(Z.dtype)"
   ]
  },
  {
   "cell_type": "markdown",
   "id": "e5902eb2",
   "metadata": {},
   "source": [
    "n. How to get the diagonal of a dot product?"
   ]
  },
  {
   "cell_type": "code",
   "execution_count": 43,
   "id": "6acfd312",
   "metadata": {},
   "outputs": [
    {
     "name": "stdout",
     "output_type": "stream",
     "text": [
      "[[0 1 2]\n",
      " [3 4 5]\n",
      " [6 7 8]]\n",
      "[[1 2 3]\n",
      " [4 5 6]\n",
      " [7 8 9]]\n",
      "[[ 18  21  24]\n",
      " [ 54  66  78]\n",
      " [ 90 111 132]]\n",
      "[ 18  66 132]\n"
     ]
    }
   ],
   "source": [
    "A = np.arange(9).reshape(3,3)\n",
    "print(A)\n",
    "B = A + 1\n",
    "print(B)\n",
    "C = np.dot(A,B)\n",
    "print(C)\n",
    "D = np.diag(C)\n",
    "print(D)"
   ]
  },
  {
   "cell_type": "code",
   "execution_count": null,
   "id": "8a59f942",
   "metadata": {},
   "outputs": [],
   "source": []
  }
 ],
 "metadata": {
  "kernelspec": {
   "display_name": "Python 3 (ipykernel)",
   "language": "python",
   "name": "python3"
  },
  "language_info": {
   "codemirror_mode": {
    "name": "ipython",
    "version": 3
   },
   "file_extension": ".py",
   "mimetype": "text/x-python",
   "name": "python",
   "nbconvert_exporter": "python",
   "pygments_lexer": "ipython3",
   "version": "3.9.7"
  }
 },
 "nbformat": 4,
 "nbformat_minor": 5
}
